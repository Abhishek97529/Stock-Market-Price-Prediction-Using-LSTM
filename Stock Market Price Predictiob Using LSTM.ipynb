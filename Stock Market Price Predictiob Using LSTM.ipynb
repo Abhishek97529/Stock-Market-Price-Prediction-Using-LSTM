{
  "cells": [
    {
      "cell_type": "markdown",
      "metadata": {
        "id": "fWt0UOocL6IW"
      },
      "source": [
        "### Stock Market Prediction using LSTM"
      ]
    },
    {
      "cell_type": "code",
      "execution_count": null,
      "metadata": {
        "id": "4pz93IwOL6Ik"
      },
      "outputs": [],
      "source": [
        "### Keras and Tensorflow >2.0"
      ]
    },
    {
      "cell_type": "code",
      "execution_count": null,
      "metadata": {
        "id": "7SfFPsJaL6It"
      },
      "outputs": [],
      "source": [
        "import pandas as pd"
      ]
    },
    {
      "cell_type": "code",
      "execution_count": null,
      "metadata": {
        "id": "tjxC89xeL6Iu"
      },
      "outputs": [],
      "source": [
        "df=pd.read_csv('AAPL.csv')"
      ]
    },
    {
      "cell_type": "code",
      "execution_count": null,
      "metadata": {
        "colab": {
          "base_uri": "https://localhost:8080/",
          "height": 206
        },
        "id": "3HlDixAzL6Iw",
        "outputId": "6f27fa3d-e750-458a-a0df-21e99251da33"
      },
      "outputs": [
        {
          "output_type": "execute_result",
          "data": {
            "text/plain": [
              "         Date      Open      High       Low     Close  Adj Close     Volume\n",
              "0  2010-01-04  7.622500  7.660714  7.585000  7.643214   6.544687  493729600\n",
              "1  2010-01-05  7.664286  7.699643  7.616071  7.656429   6.556002  601904800\n",
              "2  2010-01-06  7.656429  7.686786  7.526786  7.534643   6.451721  552160000\n",
              "3  2010-01-07  7.562500  7.571429  7.466071  7.520714   6.439794  477131200\n",
              "4  2010-01-08  7.510714  7.571429  7.466429  7.570714   6.482606  447610800"
            ],
            "text/html": [
              "\n",
              "  <div id=\"df-f42724e8-05cc-477f-95f8-aa801c23cfe4\">\n",
              "    <div class=\"colab-df-container\">\n",
              "      <div>\n",
              "<style scoped>\n",
              "    .dataframe tbody tr th:only-of-type {\n",
              "        vertical-align: middle;\n",
              "    }\n",
              "\n",
              "    .dataframe tbody tr th {\n",
              "        vertical-align: top;\n",
              "    }\n",
              "\n",
              "    .dataframe thead th {\n",
              "        text-align: right;\n",
              "    }\n",
              "</style>\n",
              "<table border=\"1\" class=\"dataframe\">\n",
              "  <thead>\n",
              "    <tr style=\"text-align: right;\">\n",
              "      <th></th>\n",
              "      <th>Date</th>\n",
              "      <th>Open</th>\n",
              "      <th>High</th>\n",
              "      <th>Low</th>\n",
              "      <th>Close</th>\n",
              "      <th>Adj Close</th>\n",
              "      <th>Volume</th>\n",
              "    </tr>\n",
              "  </thead>\n",
              "  <tbody>\n",
              "    <tr>\n",
              "      <th>0</th>\n",
              "      <td>2010-01-04</td>\n",
              "      <td>7.622500</td>\n",
              "      <td>7.660714</td>\n",
              "      <td>7.585000</td>\n",
              "      <td>7.643214</td>\n",
              "      <td>6.544687</td>\n",
              "      <td>493729600</td>\n",
              "    </tr>\n",
              "    <tr>\n",
              "      <th>1</th>\n",
              "      <td>2010-01-05</td>\n",
              "      <td>7.664286</td>\n",
              "      <td>7.699643</td>\n",
              "      <td>7.616071</td>\n",
              "      <td>7.656429</td>\n",
              "      <td>6.556002</td>\n",
              "      <td>601904800</td>\n",
              "    </tr>\n",
              "    <tr>\n",
              "      <th>2</th>\n",
              "      <td>2010-01-06</td>\n",
              "      <td>7.656429</td>\n",
              "      <td>7.686786</td>\n",
              "      <td>7.526786</td>\n",
              "      <td>7.534643</td>\n",
              "      <td>6.451721</td>\n",
              "      <td>552160000</td>\n",
              "    </tr>\n",
              "    <tr>\n",
              "      <th>3</th>\n",
              "      <td>2010-01-07</td>\n",
              "      <td>7.562500</td>\n",
              "      <td>7.571429</td>\n",
              "      <td>7.466071</td>\n",
              "      <td>7.520714</td>\n",
              "      <td>6.439794</td>\n",
              "      <td>477131200</td>\n",
              "    </tr>\n",
              "    <tr>\n",
              "      <th>4</th>\n",
              "      <td>2010-01-08</td>\n",
              "      <td>7.510714</td>\n",
              "      <td>7.571429</td>\n",
              "      <td>7.466429</td>\n",
              "      <td>7.570714</td>\n",
              "      <td>6.482606</td>\n",
              "      <td>447610800</td>\n",
              "    </tr>\n",
              "  </tbody>\n",
              "</table>\n",
              "</div>\n",
              "      <button class=\"colab-df-convert\" onclick=\"convertToInteractive('df-f42724e8-05cc-477f-95f8-aa801c23cfe4')\"\n",
              "              title=\"Convert this dataframe to an interactive table.\"\n",
              "              style=\"display:none;\">\n",
              "        \n",
              "  <svg xmlns=\"http://www.w3.org/2000/svg\" height=\"24px\"viewBox=\"0 0 24 24\"\n",
              "       width=\"24px\">\n",
              "    <path d=\"M0 0h24v24H0V0z\" fill=\"none\"/>\n",
              "    <path d=\"M18.56 5.44l.94 2.06.94-2.06 2.06-.94-2.06-.94-.94-2.06-.94 2.06-2.06.94zm-11 1L8.5 8.5l.94-2.06 2.06-.94-2.06-.94L8.5 2.5l-.94 2.06-2.06.94zm10 10l.94 2.06.94-2.06 2.06-.94-2.06-.94-.94-2.06-.94 2.06-2.06.94z\"/><path d=\"M17.41 7.96l-1.37-1.37c-.4-.4-.92-.59-1.43-.59-.52 0-1.04.2-1.43.59L10.3 9.45l-7.72 7.72c-.78.78-.78 2.05 0 2.83L4 21.41c.39.39.9.59 1.41.59.51 0 1.02-.2 1.41-.59l7.78-7.78 2.81-2.81c.8-.78.8-2.07 0-2.86zM5.41 20L4 18.59l7.72-7.72 1.47 1.35L5.41 20z\"/>\n",
              "  </svg>\n",
              "      </button>\n",
              "      \n",
              "  <style>\n",
              "    .colab-df-container {\n",
              "      display:flex;\n",
              "      flex-wrap:wrap;\n",
              "      gap: 12px;\n",
              "    }\n",
              "\n",
              "    .colab-df-convert {\n",
              "      background-color: #E8F0FE;\n",
              "      border: none;\n",
              "      border-radius: 50%;\n",
              "      cursor: pointer;\n",
              "      display: none;\n",
              "      fill: #1967D2;\n",
              "      height: 32px;\n",
              "      padding: 0 0 0 0;\n",
              "      width: 32px;\n",
              "    }\n",
              "\n",
              "    .colab-df-convert:hover {\n",
              "      background-color: #E2EBFA;\n",
              "      box-shadow: 0px 1px 2px rgba(60, 64, 67, 0.3), 0px 1px 3px 1px rgba(60, 64, 67, 0.15);\n",
              "      fill: #174EA6;\n",
              "    }\n",
              "\n",
              "    [theme=dark] .colab-df-convert {\n",
              "      background-color: #3B4455;\n",
              "      fill: #D2E3FC;\n",
              "    }\n",
              "\n",
              "    [theme=dark] .colab-df-convert:hover {\n",
              "      background-color: #434B5C;\n",
              "      box-shadow: 0px 1px 3px 1px rgba(0, 0, 0, 0.15);\n",
              "      filter: drop-shadow(0px 1px 2px rgba(0, 0, 0, 0.3));\n",
              "      fill: #FFFFFF;\n",
              "    }\n",
              "  </style>\n",
              "\n",
              "      <script>\n",
              "        const buttonEl =\n",
              "          document.querySelector('#df-f42724e8-05cc-477f-95f8-aa801c23cfe4 button.colab-df-convert');\n",
              "        buttonEl.style.display =\n",
              "          google.colab.kernel.accessAllowed ? 'block' : 'none';\n",
              "\n",
              "        async function convertToInteractive(key) {\n",
              "          const element = document.querySelector('#df-f42724e8-05cc-477f-95f8-aa801c23cfe4');\n",
              "          const dataTable =\n",
              "            await google.colab.kernel.invokeFunction('convertToInteractive',\n",
              "                                                     [key], {});\n",
              "          if (!dataTable) return;\n",
              "\n",
              "          const docLinkHtml = 'Like what you see? Visit the ' +\n",
              "            '<a target=\"_blank\" href=https://colab.research.google.com/notebooks/data_table.ipynb>data table notebook</a>'\n",
              "            + ' to learn more about interactive tables.';\n",
              "          element.innerHTML = '';\n",
              "          dataTable['output_type'] = 'display_data';\n",
              "          await google.colab.output.renderOutput(dataTable, element);\n",
              "          const docLink = document.createElement('div');\n",
              "          docLink.innerHTML = docLinkHtml;\n",
              "          element.appendChild(docLink);\n",
              "        }\n",
              "      </script>\n",
              "    </div>\n",
              "  </div>\n",
              "  "
            ]
          },
          "metadata": {},
          "execution_count": 4
        }
      ],
      "source": [
        "df.head()"
      ]
    },
    {
      "cell_type": "code",
      "execution_count": null,
      "metadata": {
        "colab": {
          "base_uri": "https://localhost:8080/",
          "height": 206
        },
        "id": "avdCmRyXL6Iz",
        "outputId": "fdf5481a-449a-43e0-e575-b66565076fc6"
      },
      "outputs": [
        {
          "output_type": "execute_result",
          "data": {
            "text/plain": [
              "            Date       Open       High        Low      Close  Adj Close  \\\n",
              "2510  2019-12-23  70.132500  71.062500  70.092499  71.000000  69.871780   \n",
              "2511  2019-12-24  71.172501  71.222504  70.730003  71.067497  69.938187   \n",
              "2512  2019-12-26  71.205002  72.495003  71.175003  72.477501  71.325806   \n",
              "2513  2019-12-27  72.779999  73.492500  72.029999  72.449997  71.298737   \n",
              "2514  2019-12-30  72.364998  73.172501  71.305000  72.879997  71.721901   \n",
              "\n",
              "         Volume  \n",
              "2510   98572000  \n",
              "2511   48478800  \n",
              "2512   93121200  \n",
              "2513  146266000  \n",
              "2514  144114400  "
            ],
            "text/html": [
              "\n",
              "  <div id=\"df-6583fb85-9cf0-4746-9c4a-2b5ab3e8a473\">\n",
              "    <div class=\"colab-df-container\">\n",
              "      <div>\n",
              "<style scoped>\n",
              "    .dataframe tbody tr th:only-of-type {\n",
              "        vertical-align: middle;\n",
              "    }\n",
              "\n",
              "    .dataframe tbody tr th {\n",
              "        vertical-align: top;\n",
              "    }\n",
              "\n",
              "    .dataframe thead th {\n",
              "        text-align: right;\n",
              "    }\n",
              "</style>\n",
              "<table border=\"1\" class=\"dataframe\">\n",
              "  <thead>\n",
              "    <tr style=\"text-align: right;\">\n",
              "      <th></th>\n",
              "      <th>Date</th>\n",
              "      <th>Open</th>\n",
              "      <th>High</th>\n",
              "      <th>Low</th>\n",
              "      <th>Close</th>\n",
              "      <th>Adj Close</th>\n",
              "      <th>Volume</th>\n",
              "    </tr>\n",
              "  </thead>\n",
              "  <tbody>\n",
              "    <tr>\n",
              "      <th>2510</th>\n",
              "      <td>2019-12-23</td>\n",
              "      <td>70.132500</td>\n",
              "      <td>71.062500</td>\n",
              "      <td>70.092499</td>\n",
              "      <td>71.000000</td>\n",
              "      <td>69.871780</td>\n",
              "      <td>98572000</td>\n",
              "    </tr>\n",
              "    <tr>\n",
              "      <th>2511</th>\n",
              "      <td>2019-12-24</td>\n",
              "      <td>71.172501</td>\n",
              "      <td>71.222504</td>\n",
              "      <td>70.730003</td>\n",
              "      <td>71.067497</td>\n",
              "      <td>69.938187</td>\n",
              "      <td>48478800</td>\n",
              "    </tr>\n",
              "    <tr>\n",
              "      <th>2512</th>\n",
              "      <td>2019-12-26</td>\n",
              "      <td>71.205002</td>\n",
              "      <td>72.495003</td>\n",
              "      <td>71.175003</td>\n",
              "      <td>72.477501</td>\n",
              "      <td>71.325806</td>\n",
              "      <td>93121200</td>\n",
              "    </tr>\n",
              "    <tr>\n",
              "      <th>2513</th>\n",
              "      <td>2019-12-27</td>\n",
              "      <td>72.779999</td>\n",
              "      <td>73.492500</td>\n",
              "      <td>72.029999</td>\n",
              "      <td>72.449997</td>\n",
              "      <td>71.298737</td>\n",
              "      <td>146266000</td>\n",
              "    </tr>\n",
              "    <tr>\n",
              "      <th>2514</th>\n",
              "      <td>2019-12-30</td>\n",
              "      <td>72.364998</td>\n",
              "      <td>73.172501</td>\n",
              "      <td>71.305000</td>\n",
              "      <td>72.879997</td>\n",
              "      <td>71.721901</td>\n",
              "      <td>144114400</td>\n",
              "    </tr>\n",
              "  </tbody>\n",
              "</table>\n",
              "</div>\n",
              "      <button class=\"colab-df-convert\" onclick=\"convertToInteractive('df-6583fb85-9cf0-4746-9c4a-2b5ab3e8a473')\"\n",
              "              title=\"Convert this dataframe to an interactive table.\"\n",
              "              style=\"display:none;\">\n",
              "        \n",
              "  <svg xmlns=\"http://www.w3.org/2000/svg\" height=\"24px\"viewBox=\"0 0 24 24\"\n",
              "       width=\"24px\">\n",
              "    <path d=\"M0 0h24v24H0V0z\" fill=\"none\"/>\n",
              "    <path d=\"M18.56 5.44l.94 2.06.94-2.06 2.06-.94-2.06-.94-.94-2.06-.94 2.06-2.06.94zm-11 1L8.5 8.5l.94-2.06 2.06-.94-2.06-.94L8.5 2.5l-.94 2.06-2.06.94zm10 10l.94 2.06.94-2.06 2.06-.94-2.06-.94-.94-2.06-.94 2.06-2.06.94z\"/><path d=\"M17.41 7.96l-1.37-1.37c-.4-.4-.92-.59-1.43-.59-.52 0-1.04.2-1.43.59L10.3 9.45l-7.72 7.72c-.78.78-.78 2.05 0 2.83L4 21.41c.39.39.9.59 1.41.59.51 0 1.02-.2 1.41-.59l7.78-7.78 2.81-2.81c.8-.78.8-2.07 0-2.86zM5.41 20L4 18.59l7.72-7.72 1.47 1.35L5.41 20z\"/>\n",
              "  </svg>\n",
              "      </button>\n",
              "      \n",
              "  <style>\n",
              "    .colab-df-container {\n",
              "      display:flex;\n",
              "      flex-wrap:wrap;\n",
              "      gap: 12px;\n",
              "    }\n",
              "\n",
              "    .colab-df-convert {\n",
              "      background-color: #E8F0FE;\n",
              "      border: none;\n",
              "      border-radius: 50%;\n",
              "      cursor: pointer;\n",
              "      display: none;\n",
              "      fill: #1967D2;\n",
              "      height: 32px;\n",
              "      padding: 0 0 0 0;\n",
              "      width: 32px;\n",
              "    }\n",
              "\n",
              "    .colab-df-convert:hover {\n",
              "      background-color: #E2EBFA;\n",
              "      box-shadow: 0px 1px 2px rgba(60, 64, 67, 0.3), 0px 1px 3px 1px rgba(60, 64, 67, 0.15);\n",
              "      fill: #174EA6;\n",
              "    }\n",
              "\n",
              "    [theme=dark] .colab-df-convert {\n",
              "      background-color: #3B4455;\n",
              "      fill: #D2E3FC;\n",
              "    }\n",
              "\n",
              "    [theme=dark] .colab-df-convert:hover {\n",
              "      background-color: #434B5C;\n",
              "      box-shadow: 0px 1px 3px 1px rgba(0, 0, 0, 0.15);\n",
              "      filter: drop-shadow(0px 1px 2px rgba(0, 0, 0, 0.3));\n",
              "      fill: #FFFFFF;\n",
              "    }\n",
              "  </style>\n",
              "\n",
              "      <script>\n",
              "        const buttonEl =\n",
              "          document.querySelector('#df-6583fb85-9cf0-4746-9c4a-2b5ab3e8a473 button.colab-df-convert');\n",
              "        buttonEl.style.display =\n",
              "          google.colab.kernel.accessAllowed ? 'block' : 'none';\n",
              "\n",
              "        async function convertToInteractive(key) {\n",
              "          const element = document.querySelector('#df-6583fb85-9cf0-4746-9c4a-2b5ab3e8a473');\n",
              "          const dataTable =\n",
              "            await google.colab.kernel.invokeFunction('convertToInteractive',\n",
              "                                                     [key], {});\n",
              "          if (!dataTable) return;\n",
              "\n",
              "          const docLinkHtml = 'Like what you see? Visit the ' +\n",
              "            '<a target=\"_blank\" href=https://colab.research.google.com/notebooks/data_table.ipynb>data table notebook</a>'\n",
              "            + ' to learn more about interactive tables.';\n",
              "          element.innerHTML = '';\n",
              "          dataTable['output_type'] = 'display_data';\n",
              "          await google.colab.output.renderOutput(dataTable, element);\n",
              "          const docLink = document.createElement('div');\n",
              "          docLink.innerHTML = docLinkHtml;\n",
              "          element.appendChild(docLink);\n",
              "        }\n",
              "      </script>\n",
              "    </div>\n",
              "  </div>\n",
              "  "
            ]
          },
          "metadata": {},
          "execution_count": 5
        }
      ],
      "source": [
        "df.tail()"
      ]
    },
    {
      "cell_type": "code",
      "execution_count": null,
      "metadata": {
        "id": "k9b0Q3-OL6I1"
      },
      "outputs": [],
      "source": [
        "df1=df.reset_index()['Close']"
      ]
    },
    {
      "cell_type": "code",
      "execution_count": null,
      "metadata": {
        "colab": {
          "base_uri": "https://localhost:8080/"
        },
        "id": "r-THVRlZL6I2",
        "outputId": "cbc0cd1b-07b8-4fa6-e42e-3ce50109f063"
      },
      "outputs": [
        {
          "output_type": "execute_result",
          "data": {
            "text/plain": [
              "0        7.643214\n",
              "1        7.656429\n",
              "2        7.534643\n",
              "3        7.520714\n",
              "4        7.570714\n",
              "          ...    \n",
              "2510    71.000000\n",
              "2511    71.067497\n",
              "2512    72.477501\n",
              "2513    72.449997\n",
              "2514    72.879997\n",
              "Name: Close, Length: 2515, dtype: float64"
            ]
          },
          "metadata": {},
          "execution_count": 7
        }
      ],
      "source": [
        "df1"
      ]
    },
    {
      "cell_type": "code",
      "execution_count": null,
      "metadata": {
        "colab": {
          "base_uri": "https://localhost:8080/",
          "height": 282
        },
        "id": "IWAf8WmCL6I3",
        "outputId": "9aa0b17e-93be-44ba-bd2a-e2257b21ce3e"
      },
      "outputs": [
        {
          "output_type": "execute_result",
          "data": {
            "text/plain": [
              "[<matplotlib.lines.Line2D at 0x7fbde7727690>]"
            ]
          },
          "metadata": {},
          "execution_count": 8
        },
        {
          "output_type": "display_data",
          "data": {
            "text/plain": [
              "<Figure size 432x288 with 1 Axes>"
            ],
            "image/png": "[encoded data removed]"
          },
          "metadata": {
            "needs_background": "light"
          }
        }
      ],
      "source": [
        "import matplotlib.pyplot as plt\n",
        "plt.plot(df1)"
      ]
    },
    {
      "cell_type": "code",
      "execution_count": null,
      "metadata": {
        "id": "jfE8D7UVL6I5"
      },
      "outputs": [],
      "source": [
        "### LSTM are sensitive to the scale of the data. so we apply MinMax scaler "
      ]
    },
    {
      "cell_type": "code",
      "execution_count": null,
      "metadata": {
        "id": "l0msxx6vL6I5"
      },
      "outputs": [],
      "source": [
        "import numpy as np"
      ]
    },
    {
      "cell_type": "code",
      "execution_count": null,
      "metadata": {
        "colab": {
          "base_uri": "https://localhost:8080/"
        },
        "id": "udQUcX7mL6I6",
        "outputId": "1a3ad035-9ef3-4b87-858f-60383cd0b8c1"
      },
      "outputs": [
        {
          "output_type": "execute_result",
          "data": {
            "text/plain": [
              "0        7.643214\n",
              "1        7.656429\n",
              "2        7.534643\n",
              "3        7.520714\n",
              "4        7.570714\n",
              "          ...    \n",
              "2510    71.000000\n",
              "2511    71.067497\n",
              "2512    72.477501\n",
              "2513    72.449997\n",
              "2514    72.879997\n",
              "Name: Close, Length: 2515, dtype: float64"
            ]
          },
          "metadata": {},
          "execution_count": 11
        }
      ],
      "source": [
        "df1"
      ]
    },
    {
      "cell_type": "code",
      "execution_count": null,
      "metadata": {
        "id": "rUij8LcfL6I7"
      },
      "outputs": [],
      "source": [
        "from sklearn.preprocessing import MinMaxScaler\n",
        "scaler=MinMaxScaler(feature_range=(0,1))\n",
        "df1=scaler.fit_transform(np.array(df1).reshape(-1,1))"
      ]
    },
    {
      "cell_type": "code",
      "execution_count": null,
      "metadata": {
        "colab": {
          "base_uri": "https://localhost:8080/"
        },
        "id": "VsT6aZMrL6I7",
        "outputId": "c495b797-9290-4ade-a1b5-93cf809aae35"
      },
      "outputs": [
        {
          "output_type": "stream",
          "name": "stdout",
          "text": [
            "[[0.01187931]\n",
            " [0.01207948]\n",
            " [0.01023482]\n",
            " ...\n",
            " [0.99390352]\n",
            " [0.99348693]\n",
            " [1.        ]]\n"
          ]
        }
      ],
      "source": [
        "print(df1)"
      ]
    },
    {
      "cell_type": "code",
      "execution_count": null,
      "metadata": {
        "id": "gMnlTbLbL6I8"
      },
      "outputs": [],
      "source": [
        "##splitting dataset into train and test split\n",
        "training_size=int(len(df1)*0.65)\n",
        "test_size=len(df1)-training_size\n",
        "train_data,test_data=df1[0:training_size,:],df1[training_size:len(df1),:1]"
      ]
    },
    {
      "cell_type": "code",
      "execution_count": null,
      "metadata": {
        "colab": {
          "base_uri": "https://localhost:8080/"
        },
        "id": "gbpG685FL6I9",
        "outputId": "a2627ae9-1ccb-457d-e272-5e52cc3100b4"
      },
      "outputs": [
        {
          "output_type": "execute_result",
          "data": {
            "text/plain": [
              "(1634, 881)"
            ]
          },
          "metadata": {},
          "execution_count": 15
        }
      ],
      "source": [
        "training_size,test_size"
      ]
    },
    {
      "cell_type": "code",
      "execution_count": null,
      "metadata": {
        "colab": {
          "base_uri": "https://localhost:8080/"
        },
        "id": "0Y0VNoqIL6JA",
        "outputId": "626494fd-37f8-4af8-ae31-dfbbe30894ac"
      },
      "outputs": [
        {
          "output_type": "execute_result",
          "data": {
            "text/plain": [
              "array([[0.01187931],\n",
              "       [0.01207948],\n",
              "       [0.01023482],\n",
              "       ...,\n",
              "       [0.24463511],\n",
              "       [0.25050443],\n",
              "       [0.25357165]])"
            ]
          },
          "metadata": {},
          "execution_count": 16
        }
      ],
      "source": [
        "train_data"
      ]
    },
    {
      "cell_type": "code",
      "execution_count": null,
      "metadata": {
        "id": "fLPY5DzKL6JC"
      },
      "outputs": [],
      "source": [
        "import numpy\n",
        "# convert an array of values into a dataset matrix\n",
        "def create_dataset(dataset, time_step=1):\n",
        "\tdataX, dataY = [], []\n",
        "\tfor i in range(len(dataset)-time_step-1):\n",
        "\t\ta = dataset[i:(i+time_step), 0]   ###i=0, 0,1,2,3-----99   100 \n",
        "\t\tdataX.append(a)\n",
        "\t\tdataY.append(dataset[i + time_step, 0])\n",
        "\treturn numpy.array(dataX), numpy.array(dataY)"
      ]
    },
    {
      "cell_type": "code",
      "execution_count": null,
      "metadata": {
        "id": "-ddSrBFGL6JE"
      },
      "outputs": [],
      "source": [
        "# reshape into X=t,t+1,t+2,t+3 and Y=t+4\n",
        "time_step = 100\n",
        "X_train, y_train = create_dataset(train_data, time_step)\n",
        "X_test, ytest = create_dataset(test_data, time_step)"
      ]
    },
    {
      "cell_type": "code",
      "execution_count": null,
      "metadata": {
        "colab": {
          "base_uri": "https://localhost:8080/"
        },
        "id": "Boii-fvCL6JF",
        "outputId": "bd0b81fb-f778-448a-b9cc-9b30e562c42d"
      },
      "outputs": [
        {
          "output_type": "stream",
          "name": "stdout",
          "text": [
            "(1533, 100)\n",
            "(1533,)\n"
          ]
        },
        {
          "output_type": "execute_result",
          "data": {
            "text/plain": [
              "(None, None)"
            ]
          },
          "metadata": {},
          "execution_count": 19
        }
      ],
      "source": [
        "print(X_train.shape), print(y_train.shape)"
      ]
    },
    {
      "cell_type": "code",
      "execution_count": null,
      "metadata": {
        "colab": {
          "base_uri": "https://localhost:8080/"
        },
        "id": "3_7u9miKL6JH",
        "outputId": "2d6a3349-fc99-463c-d7a3-bf23b0c09ea7"
      },
      "outputs": [
        {
          "output_type": "stream",
          "name": "stdout",
          "text": [
            "(780, 100)\n",
            "(780,)\n"
          ]
        },
        {
          "output_type": "execute_result",
          "data": {
            "text/plain": [
              "(None, None)"
            ]
          },
          "metadata": {},
          "execution_count": 20
        }
      ],
      "source": [
        "print(X_test.shape), print(ytest.shape)"
      ]
    },
    {
      "cell_type": "code",
      "execution_count": null,
      "metadata": {
        "id": "vO2KjGRHL6JH"
      },
      "outputs": [],
      "source": [
        "# reshape input to be [samples, time steps, features] which is required for LSTM\n",
        "X_train =X_train.reshape(X_train.shape[0],X_train.shape[1] , 1)\n",
        "X_test = X_test.reshape(X_test.shape[0],X_test.shape[1] , 1)"
      ]
    },
    {
      "cell_type": "code",
      "execution_count": null,
      "metadata": {
        "id": "pL16zurwL6JI"
      },
      "outputs": [],
      "source": [
        "### Create the Stacked LSTM model\n",
        "from tensorflow.keras.models import Sequential\n",
        "from tensorflow.keras.layers import Dense\n",
        "from tensorflow.keras.layers import LSTM"
      ]
    },
    {
      "cell_type": "code",
      "execution_count": null,
      "metadata": {
        "id": "dwHlFnmvL6JJ"
      },
      "outputs": [],
      "source": [
        "model=Sequential()\n",
        "model.add(LSTM(50,return_sequences=True,input_shape=(100,1)))\n",
        "model.add(LSTM(50,return_sequences=True))\n",
        "model.add(LSTM(50))\n",
        "model.add(Dense(1))\n",
        "model.compile(loss='mean_squared_error',optimizer='adam')\n"
      ]
    },
    {
      "cell_type": "code",
      "execution_count": null,
      "metadata": {
        "colab": {
          "base_uri": "https://localhost:8080/"
        },
        "id": "neqfz6cmL6JK",
        "outputId": "6f5bcbd6-ccc9-403c-e3f7-6a405e870167"
      },
      "outputs": [
        {
          "output_type": "stream",
          "name": "stdout",
          "text": [
            "Model: \"sequential\"\n",
            "_________________________________________________________________\n",
            " Layer (type)                Output Shape              Param #   \n",
            "=================================================================\n",
            " lstm (LSTM)                 (None, 100, 50)           10400     \n",
            "                                                                 \n",
            " lstm_1 (LSTM)               (None, 100, 50)           20200     \n",
            "                                                                 \n",
            " lstm_2 (LSTM)               (None, 50)                20200     \n",
            "                                                                 \n",
            " dense (Dense)               (None, 1)                 51        \n",
            "                                                                 \n",
            "=================================================================\n",
            "Total params: 50,851\n",
            "Trainable params: 50,851\n",
            "Non-trainable params: 0\n",
            "_________________________________________________________________\n"
          ]
        }
      ],
      "source": [
        "model.summary()"
      ]
    },
    {
      "cell_type": "code",
      "execution_count": null,
      "metadata": {
        "colab": {
          "base_uri": "https://localhost:8080/"
        },
        "id": "pRa-i3QBL6JK",
        "outputId": "ea00b735-ad4b-4784-b7d4-0bd5ee1d120d"
      },
      "outputs": [
        {
          "output_type": "stream",
          "name": "stdout",
          "text": [
            "Model: \"sequential\"\n",
            "_________________________________________________________________\n",
            " Layer (type)                Output Shape              Param #   \n",
            "=================================================================\n",
            " lstm (LSTM)                 (None, 100, 50)           10400     \n",
            "                                                                 \n",
            " lstm_1 (LSTM)               (None, 100, 50)           20200     \n",
            "                                                                 \n",
            " lstm_2 (LSTM)               (None, 50)                20200     \n",
            "                                                                 \n",
            " dense (Dense)               (None, 1)                 51        \n",
            "                                                                 \n",
            "=================================================================\n",
            "Total params: 50,851\n",
            "Trainable params: 50,851\n",
            "Non-trainable params: 0\n",
            "_________________________________________________________________\n"
          ]
        }
      ],
      "source": [
        "model.summary()"
      ]
    },
    {
      "cell_type": "code",
      "execution_count": null,
      "metadata": {
        "id": "ZzpKCt_TL6JL"
      },
      "outputs": [],
      "source": [
        ""
      ]
    },
    {
      "cell_type": "code",
      "execution_count": null,
      "metadata": {
        "colab": {
          "base_uri": "https://localhost:8080/"
        },
        "id": "Rhl-1w0LL6JL",
        "outputId": "f8278dfd-2f80-41b2-addb-f7df53f212fc"
      },
      "outputs": [
        {
          "output_type": "stream",
          "name": "stdout",
          "text": [
            "Epoch 1/100\n",
            "24/24 [==============================] - 11s 246ms/step - loss: 0.0069 - val_loss: 0.0052\n",
            "Epoch 2/100\n",
            "24/24 [==============================] - 4s 187ms/step - loss: 5.7664e-04 - val_loss: 0.0012\n",
            "Epoch 3/100\n",
            "24/24 [==============================] - 4s 182ms/step - loss: 2.5203e-04 - val_loss: 0.0015\n",
            "Epoch 4/100\n",
            "24/24 [==============================] - 4s 187ms/step - loss: 2.2860e-04 - val_loss: 0.0012\n",
            "Epoch 5/100\n",
            "24/24 [==============================] - 4s 181ms/step - loss: 2.2258e-04 - val_loss: 0.0013\n",
            "Epoch 6/100\n",
            "24/24 [==============================] - 4s 181ms/step - loss: 2.1285e-04 - val_loss: 0.0015\n",
            "Epoch 7/100\n",
            "24/24 [==============================] - 4s 179ms/step - loss: 2.0962e-04 - val_loss: 0.0014\n",
            "Epoch 8/100\n",
            "24/24 [==============================] - 4s 180ms/step - loss: 1.9814e-04 - val_loss: 0.0012\n",
            "Epoch 9/100\n",
            "24/24 [==============================] - 4s 181ms/step - loss: 1.9990e-04 - val_loss: 0.0026\n",
            "Epoch 10/100\n",
            "24/24 [==============================] - 4s 180ms/step - loss: 2.3679e-04 - val_loss: 0.0021\n",
            "Epoch 11/100\n",
            "24/24 [==============================] - 4s 180ms/step - loss: 1.9014e-04 - val_loss: 0.0018\n",
            "Epoch 12/100\n",
            "24/24 [==============================] - 4s 186ms/step - loss: 1.8054e-04 - val_loss: 0.0015\n",
            "Epoch 13/100\n",
            "24/24 [==============================] - 4s 181ms/step - loss: 1.7497e-04 - val_loss: 0.0014\n",
            "Epoch 14/100\n",
            "24/24 [==============================] - 4s 184ms/step - loss: 1.6857e-04 - val_loss: 0.0018\n",
            "Epoch 15/100\n",
            "24/24 [==============================] - 4s 184ms/step - loss: 1.5763e-04 - val_loss: 0.0024\n",
            "Epoch 16/100\n",
            "24/24 [==============================] - 4s 181ms/step - loss: 1.5586e-04 - val_loss: 0.0015\n",
            "Epoch 17/100\n",
            "24/24 [==============================] - 4s 182ms/step - loss: 1.5238e-04 - val_loss: 0.0028\n",
            "Epoch 18/100\n",
            "24/24 [==============================] - 4s 181ms/step - loss: 1.6862e-04 - val_loss: 0.0030\n",
            "Epoch 19/100\n",
            "24/24 [==============================] - 4s 181ms/step - loss: 1.5224e-04 - val_loss: 0.0014\n",
            "Epoch 20/100\n",
            "24/24 [==============================] - 4s 185ms/step - loss: 1.4205e-04 - val_loss: 0.0026\n",
            "Epoch 21/100\n",
            "24/24 [==============================] - 4s 181ms/step - loss: 1.4104e-04 - val_loss: 0.0015\n",
            "Epoch 22/100\n",
            "24/24 [==============================] - 5s 200ms/step - loss: 1.5279e-04 - val_loss: 0.0017\n",
            "Epoch 23/100\n",
            "24/24 [==============================] - 4s 186ms/step - loss: 1.6205e-04 - val_loss: 0.0027\n",
            "Epoch 24/100\n",
            "24/24 [==============================] - 4s 185ms/step - loss: 1.4342e-04 - val_loss: 0.0022\n",
            "Epoch 25/100\n",
            "24/24 [==============================] - 4s 181ms/step - loss: 1.4266e-04 - val_loss: 0.0011\n",
            "Epoch 26/100\n",
            "24/24 [==============================] - 4s 181ms/step - loss: 1.3067e-04 - val_loss: 0.0012\n",
            "Epoch 27/100\n",
            "24/24 [==============================] - 4s 180ms/step - loss: 1.3244e-04 - val_loss: 0.0022\n",
            "Epoch 28/100\n",
            "24/24 [==============================] - 4s 182ms/step - loss: 1.2591e-04 - val_loss: 0.0019\n",
            "Epoch 29/100\n",
            "24/24 [==============================] - 4s 182ms/step - loss: 1.2735e-04 - val_loss: 0.0016\n",
            "Epoch 30/100\n",
            "24/24 [==============================] - 4s 186ms/step - loss: 1.2117e-04 - val_loss: 0.0012\n",
            "Epoch 31/100\n",
            "24/24 [==============================] - 4s 186ms/step - loss: 1.2187e-04 - val_loss: 6.0294e-04\n",
            "Epoch 32/100\n",
            "24/24 [==============================] - 4s 181ms/step - loss: 1.2395e-04 - val_loss: 8.3377e-04\n",
            "Epoch 33/100\n",
            "24/24 [==============================] - 4s 185ms/step - loss: 1.1636e-04 - val_loss: 0.0011\n",
            "Epoch 34/100\n",
            "24/24 [==============================] - 5s 188ms/step - loss: 1.2119e-04 - val_loss: 6.5688e-04\n",
            "Epoch 35/100\n",
            "24/24 [==============================] - 4s 182ms/step - loss: 1.1917e-04 - val_loss: 6.5632e-04\n",
            "Epoch 36/100\n",
            "24/24 [==============================] - 4s 181ms/step - loss: 1.1463e-04 - val_loss: 8.9629e-04\n",
            "Epoch 37/100\n",
            "24/24 [==============================] - 4s 182ms/step - loss: 1.1903e-04 - val_loss: 4.3927e-04\n",
            "Epoch 38/100\n",
            "24/24 [==============================] - 4s 181ms/step - loss: 1.1921e-04 - val_loss: 6.6009e-04\n",
            "Epoch 39/100\n",
            "24/24 [==============================] - 4s 180ms/step - loss: 1.2691e-04 - val_loss: 6.4231e-04\n",
            "Epoch 40/100\n",
            "24/24 [==============================] - 5s 204ms/step - loss: 1.1122e-04 - val_loss: 5.1359e-04\n",
            "Epoch 41/100\n",
            "24/24 [==============================] - 5s 186ms/step - loss: 1.1355e-04 - val_loss: 5.3531e-04\n",
            "Epoch 42/100\n",
            "24/24 [==============================] - 4s 183ms/step - loss: 1.3863e-04 - val_loss: 0.0012\n",
            "Epoch 43/100\n",
            "24/24 [==============================] - 4s 186ms/step - loss: 1.1606e-04 - val_loss: 8.7087e-04\n",
            "Epoch 44/100\n",
            "24/24 [==============================] - 4s 179ms/step - loss: 1.0335e-04 - val_loss: 6.5340e-04\n",
            "Epoch 45/100\n",
            "24/24 [==============================] - 4s 180ms/step - loss: 1.0511e-04 - val_loss: 6.0925e-04\n",
            "Epoch 46/100\n",
            "24/24 [==============================] - 4s 180ms/step - loss: 1.0299e-04 - val_loss: 5.6591e-04\n",
            "Epoch 47/100\n",
            "24/24 [==============================] - 4s 181ms/step - loss: 1.1973e-04 - val_loss: 4.4695e-04\n",
            "Epoch 48/100\n",
            "24/24 [==============================] - 4s 181ms/step - loss: 1.0553e-04 - val_loss: 5.1477e-04\n",
            "Epoch 49/100\n",
            "24/24 [==============================] - 4s 179ms/step - loss: 9.8524e-05 - val_loss: 6.1002e-04\n",
            "Epoch 50/100\n",
            "24/24 [==============================] - 4s 179ms/step - loss: 9.6165e-05 - val_loss: 5.0340e-04\n",
            "Epoch 51/100\n",
            "24/24 [==============================] - 4s 180ms/step - loss: 9.3599e-05 - val_loss: 5.8675e-04\n",
            "Epoch 52/100\n",
            "24/24 [==============================] - 4s 184ms/step - loss: 9.2632e-05 - val_loss: 3.9146e-04\n",
            "Epoch 53/100\n",
            "24/24 [==============================] - 4s 182ms/step - loss: 9.7550e-05 - val_loss: 5.4072e-04\n",
            "Epoch 54/100\n",
            "24/24 [==============================] - 4s 180ms/step - loss: 9.4278e-05 - val_loss: 3.2164e-04\n",
            "Epoch 55/100\n",
            "24/24 [==============================] - 4s 184ms/step - loss: 1.0410e-04 - val_loss: 3.5030e-04\n",
            "Epoch 56/100\n",
            "24/24 [==============================] - 4s 187ms/step - loss: 9.6989e-05 - val_loss: 3.1977e-04\n",
            "Epoch 57/100\n",
            "24/24 [==============================] - 4s 181ms/step - loss: 9.4283e-05 - val_loss: 9.9469e-04\n",
            "Epoch 58/100\n",
            "24/24 [==============================] - 4s 180ms/step - loss: 9.1383e-05 - val_loss: 3.5635e-04\n",
            "Epoch 59/100\n",
            "24/24 [==============================] - 4s 184ms/step - loss: 9.2674e-05 - val_loss: 2.9490e-04\n",
            "Epoch 60/100\n",
            "24/24 [==============================] - 4s 181ms/step - loss: 9.5380e-05 - val_loss: 2.9037e-04\n",
            "Epoch 61/100\n",
            "24/24 [==============================] - 4s 182ms/step - loss: 8.9903e-05 - val_loss: 0.0011\n",
            "Epoch 62/100\n",
            "24/24 [==============================] - 4s 183ms/step - loss: 9.6968e-05 - val_loss: 8.5605e-04\n",
            "Epoch 63/100\n",
            "24/24 [==============================] - 4s 186ms/step - loss: 1.1227e-04 - val_loss: 6.7701e-04\n",
            "Epoch 64/100\n",
            "24/24 [==============================] - 4s 180ms/step - loss: 8.5785e-05 - val_loss: 2.8019e-04\n",
            "Epoch 65/100\n",
            "24/24 [==============================] - 4s 179ms/step - loss: 8.4914e-05 - val_loss: 2.4836e-04\n",
            "Epoch 66/100\n",
            "24/24 [==============================] - 4s 180ms/step - loss: 8.9780e-05 - val_loss: 2.4148e-04\n",
            "Epoch 67/100\n",
            "24/24 [==============================] - 4s 180ms/step - loss: 9.8804e-05 - val_loss: 4.1694e-04\n",
            "Epoch 68/100\n",
            "24/24 [==============================] - 4s 179ms/step - loss: 8.8124e-05 - val_loss: 4.0043e-04\n",
            "Epoch 69/100\n",
            "24/24 [==============================] - 4s 179ms/step - loss: 7.3066e-05 - val_loss: 2.2877e-04\n",
            "Epoch 70/100\n",
            "24/24 [==============================] - 4s 179ms/step - loss: 8.6237e-05 - val_loss: 5.4770e-04\n",
            "Epoch 71/100\n",
            "24/24 [==============================] - 4s 181ms/step - loss: 8.4624e-05 - val_loss: 2.8169e-04\n",
            "Epoch 72/100\n",
            "24/24 [==============================] - 4s 180ms/step - loss: 7.4003e-05 - val_loss: 3.9578e-04\n",
            "Epoch 73/100\n",
            "24/24 [==============================] - 4s 182ms/step - loss: 8.1202e-05 - val_loss: 2.5683e-04\n",
            "Epoch 74/100\n",
            "24/24 [==============================] - 4s 187ms/step - loss: 7.8755e-05 - val_loss: 2.5543e-04\n",
            "Epoch 75/100\n",
            "24/24 [==============================] - 4s 181ms/step - loss: 7.3573e-05 - val_loss: 2.3908e-04\n",
            "Epoch 76/100\n",
            "24/24 [==============================] - 4s 187ms/step - loss: 7.5463e-05 - val_loss: 2.1242e-04\n",
            "Epoch 77/100\n",
            "24/24 [==============================] - 4s 186ms/step - loss: 6.9823e-05 - val_loss: 2.1046e-04\n",
            "Epoch 78/100\n",
            "24/24 [==============================] - 5s 189ms/step - loss: 7.1529e-05 - val_loss: 2.0874e-04\n",
            "Epoch 79/100\n",
            "24/24 [==============================] - 5s 189ms/step - loss: 6.5144e-05 - val_loss: 2.0651e-04\n",
            "Epoch 80/100\n",
            "24/24 [==============================] - 4s 182ms/step - loss: 6.5180e-05 - val_loss: 2.4416e-04\n",
            "Epoch 81/100\n",
            "24/24 [==============================] - 4s 180ms/step - loss: 6.7594e-05 - val_loss: 2.6147e-04\n",
            "Epoch 82/100\n",
            "24/24 [==============================] - 4s 181ms/step - loss: 6.2315e-05 - val_loss: 2.1079e-04\n",
            "Epoch 83/100\n",
            "24/24 [==============================] - 4s 186ms/step - loss: 6.8290e-05 - val_loss: 2.5225e-04\n",
            "Epoch 84/100\n",
            "24/24 [==============================] - 4s 180ms/step - loss: 8.5295e-05 - val_loss: 2.0480e-04\n",
            "Epoch 85/100\n",
            "24/24 [==============================] - 4s 184ms/step - loss: 7.4119e-05 - val_loss: 2.8282e-04\n",
            "Epoch 86/100\n",
            "24/24 [==============================] - 4s 181ms/step - loss: 8.0165e-05 - val_loss: 1.9722e-04\n",
            "Epoch 87/100\n",
            "24/24 [==============================] - 4s 182ms/step - loss: 6.8644e-05 - val_loss: 2.6798e-04\n",
            "Epoch 88/100\n",
            "24/24 [==============================] - 5s 191ms/step - loss: 5.8610e-05 - val_loss: 3.0569e-04\n",
            "Epoch 89/100\n",
            "24/24 [==============================] - 4s 183ms/step - loss: 6.0427e-05 - val_loss: 2.6089e-04\n",
            "Epoch 90/100\n",
            "24/24 [==============================] - 5s 189ms/step - loss: 6.2749e-05 - val_loss: 2.4341e-04\n",
            "Epoch 91/100\n",
            "24/24 [==============================] - 4s 184ms/step - loss: 5.7840e-05 - val_loss: 1.9250e-04\n",
            "Epoch 92/100\n",
            "24/24 [==============================] - 4s 184ms/step - loss: 5.7637e-05 - val_loss: 3.1813e-04\n",
            "Epoch 93/100\n",
            "24/24 [==============================] - 4s 181ms/step - loss: 6.1979e-05 - val_loss: 4.3983e-04\n",
            "Epoch 94/100\n",
            "24/24 [==============================] - 4s 181ms/step - loss: 6.8065e-05 - val_loss: 2.5763e-04\n",
            "Epoch 95/100\n",
            "24/24 [==============================] - 5s 197ms/step - loss: 5.3172e-05 - val_loss: 2.2775e-04\n",
            "Epoch 96/100\n",
            "24/24 [==============================] - 4s 182ms/step - loss: 5.1201e-05 - val_loss: 1.7828e-04\n",
            "Epoch 97/100\n",
            "24/24 [==============================] - 4s 186ms/step - loss: 5.2362e-05 - val_loss: 2.0555e-04\n",
            "Epoch 98/100\n",
            "24/24 [==============================] - 4s 185ms/step - loss: 5.5111e-05 - val_loss: 2.7700e-04\n",
            "Epoch 99/100\n",
            "24/24 [==============================] - 4s 186ms/step - loss: 5.5460e-05 - val_loss: 1.7705e-04\n",
            "Epoch 100/100\n",
            "24/24 [==============================] - 4s 181ms/step - loss: 5.6253e-05 - val_loss: 2.0065e-04\n"
          ]
        },
        {
          "output_type": "execute_result",
          "data": {
            "text/plain": [
              "<keras.callbacks.History at 0x7fbd6b880d10>"
            ]
          },
          "metadata": {},
          "execution_count": 26
        }
      ],
      "source": [
        "model.fit(X_train,y_train,validation_data=(X_test,ytest),epochs=100,batch_size=64,verbose=1)"
      ]
    },
    {
      "cell_type": "code",
      "execution_count": null,
      "metadata": {
        "id": "wpLWP8MYL6JL"
      },
      "outputs": [],
      "source": [
        "import tensorflow as tf"
      ]
    },
    {
      "cell_type": "code",
      "execution_count": null,
      "metadata": {
        "colab": {
          "base_uri": "https://localhost:8080/",
          "height": 35
        },
        "id": "HeDudFsjL6JM",
        "outputId": "267b4d6d-87c3-4d27-b6f4-fb6aff5eb807"
      },
      "outputs": [
        {
          "output_type": "execute_result",
          "data": {
            "text/plain": [
              "'2.8.0'"
            ],
            "application/vnd.google.colaboratory.intrinsic+json": {
              "type": "string"
            }
          },
          "metadata": {},
          "execution_count": 35
        }
      ],
      "source": [
        "tf.__version__"
      ]
    },
    {
      "cell_type": "code",
      "execution_count": null,
      "metadata": {
        "id": "rTlv0W0iL6JN"
      },
      "outputs": [],
      "source": [
        "### Lets Do the prediction and check performance metrics\n",
        "train_predict=model.predict(X_train)\n",
        "test_predict=model.predict(X_test)"
      ]
    },
    {
      "cell_type": "code",
      "execution_count": null,
      "metadata": {
        "id": "J13NJlFUL6JN"
      },
      "outputs": [],
      "source": [
        "##Transformback to original form\n",
        "train_predict=scaler.inverse_transform(train_predict)\n",
        "test_predict=scaler.inverse_transform(test_predict)"
      ]
    },
    {
      "cell_type": "code",
      "execution_count": null,
      "metadata": {
        "colab": {
          "base_uri": "https://localhost:8080/"
        },
        "id": "zVXxeZe4L6JN",
        "outputId": "aa7162ab-93d6-403d-be63-0d49a43ba376"
      },
      "outputs": [
        {
          "output_type": "execute_result",
          "data": {
            "text/plain": [
              "21.00738963355029"
            ]
          },
          "metadata": {},
          "execution_count": 38
        }
      ],
      "source": [
        "### Calculate RMSE performance metrics\n",
        "import math\n",
        "from sklearn.metrics import mean_squared_error\n",
        "math.sqrt(mean_squared_error(y_train,train_predict))"
      ]
    },
    {
      "cell_type": "code",
      "execution_count": null,
      "metadata": {
        "colab": {
          "base_uri": "https://localhost:8080/"
        },
        "id": "XFnSmcaYL6JO",
        "outputId": "f5ae6e7d-87b3-416f-c90d-b2a814ee673e"
      },
      "outputs": [
        {
          "output_type": "execute_result",
          "data": {
            "text/plain": [
              "45.60163113375343"
            ]
          },
          "metadata": {},
          "execution_count": 39
        }
      ],
      "source": [
        "### Test Data RMSE\n",
        "math.sqrt(mean_squared_error(ytest,test_predict))"
      ]
    },
    {
      "cell_type": "code",
      "execution_count": null,
      "metadata": {
        "colab": {
          "base_uri": "https://localhost:8080/",
          "height": 265
        },
        "id": "omE427gKL6JP",
        "outputId": "01d4b47c-e405-4248-efa5-8adaac7a3830"
      },
      "outputs": [
        {
          "output_type": "display_data",
          "data": {
            "text/plain": [
              "<Figure size 432x288 with 1 Axes>"
            ],
            "image/png": "[encoded data removed]"
          },
          "metadata": {
            "needs_background": "light"
          }
        }
      ],
      "source": [
        "### Plotting \n",
        "# shift train predictions for plotting\n",
        "look_back=100\n",
        "trainPredictPlot = numpy.empty_like(df1)\n",
        "trainPredictPlot[:, :] = np.nan\n",
        "trainPredictPlot[look_back:len(train_predict)+look_back, :] = train_predict\n",
        "# shift test predictions for plotting\n",
        "testPredictPlot = numpy.empty_like(df1)\n",
        "testPredictPlot[:, :] = numpy.nan\n",
        "testPredictPlot[len(train_predict)+(look_back*2)+1:len(df1)-1, :] = test_predict\n",
        "# plot baseline and predictions\n",
        "plt.plot(scaler.inverse_transform(df1))\n",
        "plt.plot(trainPredictPlot)\n",
        "plt.plot(testPredictPlot)\n",
        "plt.show()"
      ]
    },
    {
      "cell_type": "code",
      "source": [
        ""
      ],
      "metadata": {
        "id": "qHM4s9w4eQih"
      },
      "execution_count": null,
      "outputs": []
    }
  ],
  "metadata": {
    "kernelspec": {
      "display_name": "Python 3",
      "language": "python",
      "name": "python3"
    },
    "language_info": {
      "codemirror_mode": {
        "name": "ipython",
        "version": 3
      },
      "file_extension": ".py",
      "mimetype": "text/x-python",
      "name": "python",
      "nbconvert_exporter": "python",
      "pygments_lexer": "ipython3",
      "version": "3.6.9"
    },
    "colab": {
      "name": "Machine learning  project.ipynb",
      "provenance": []
    }
  },
  "nbformat": 4,
  "nbformat_minor": 0
}